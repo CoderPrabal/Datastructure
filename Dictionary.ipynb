{
 "cells": [
  {
   "cell_type": "code",
   "execution_count": 10,
   "metadata": {},
   "outputs": [
    {
     "name": "stdout",
     "output_type": "stream",
     "text": [
      "{'brand': ['Dell', 'HP'], 'model': 'Inspiron'}\n"
     ]
    }
   ],
   "source": [
    "thisdict = {\n",
    "  \"brand\": '[\"Dell\",\"HP\"]',\n",
    "  \"model\": \"Inspiron\"\n",
    "}\n",
    "print(thisdict)"
   ]
  },
  {
   "cell_type": "code",
   "execution_count": 11,
   "metadata": {},
   "outputs": [
    {
     "name": "stdout",
     "output_type": "stream",
     "text": [
      "<class 'dict'>\n"
     ]
    }
   ],
   "source": [
    "print(type(thisdict))"
   ]
  },
  {
   "cell_type": "code",
   "execution_count": 12,
   "metadata": {},
   "outputs": [
    {
     "name": "stdout",
     "output_type": "stream",
     "text": [
      "Dell\n"
     ]
    }
   ],
   "source": [
    "x = thisdict[\"brand\"][0]\n",
    "print(x)"
   ]
  },
  {
   "cell_type": "code",
   "execution_count": 6,
   "metadata": {},
   "outputs": [
    {
     "name": "stdout",
     "output_type": "stream",
     "text": [
      "Inspiron\n"
     ]
    }
   ],
   "source": [
    "x = thisdict.get(\"model\")\n",
    "print(x)"
   ]
  },
  {
   "cell_type": "code",
   "execution_count": 7,
   "metadata": {},
   "outputs": [],
   "source": [
    "thisdict[\"model\"] = 'Alienware'"
   ]
  },
  {
   "cell_type": "code",
   "execution_count": 8,
   "metadata": {},
   "outputs": [
    {
     "name": "stdout",
     "output_type": "stream",
     "text": [
      "{'brand': 'DEll', 'model': 'Alienware'}\n"
     ]
    }
   ],
   "source": [
    "print(thisdict)"
   ]
  },
  {
   "cell_type": "code",
   "execution_count": 9,
   "metadata": {},
   "outputs": [
    {
     "name": "stdout",
     "output_type": "stream",
     "text": [
      "brand DEll\n",
      "model Alienware\n"
     ]
    }
   ],
   "source": [
    "for x, y in thisdict.items():\n",
    "    print(x, y)"
   ]
  },
  {
   "cell_type": "code",
   "execution_count": 11,
   "metadata": {},
   "outputs": [
    {
     "name": "stdout",
     "output_type": "stream",
     "text": [
      "2\n"
     ]
    }
   ],
   "source": [
    "print(len(thisdict))"
   ]
  },
  {
   "cell_type": "code",
   "execution_count": 10,
   "metadata": {},
   "outputs": [
    {
     "name": "stdout",
     "output_type": "stream",
     "text": [
      "Yes, 'model' is one of the keys in the thisdict dictionary\n"
     ]
    }
   ],
   "source": [
    "if \"model\" in thisdict:\n",
    "    print(\"Yes, 'model' is one of the keys in the thisdict dictionary\")"
   ]
  },
  {
   "cell_type": "code",
   "execution_count": 12,
   "metadata": {},
   "outputs": [
    {
     "name": "stdout",
     "output_type": "stream",
     "text": [
      "{'brand': 'DEll', 'model': 'Alienware', 'color': 'red'}\n"
     ]
    }
   ],
   "source": [
    "thisdict[\"color\"] = \"red\"\n",
    "print(thisdict)"
   ]
  },
  {
   "cell_type": "code",
   "execution_count": 13,
   "metadata": {},
   "outputs": [
    {
     "name": "stdout",
     "output_type": "stream",
     "text": [
      "{'brand': 'DEll', 'color': 'red'}\n"
     ]
    }
   ],
   "source": [
    "thisdict.pop(\"model\")\n",
    "print(thisdict)"
   ]
  },
  {
   "cell_type": "code",
   "execution_count": 14,
   "metadata": {},
   "outputs": [
    {
     "name": "stdout",
     "output_type": "stream",
     "text": [
      "{'brand': 'DEll', 'color': 'red'}\n"
     ]
    }
   ],
   "source": [
    "mydict=thisdict\n",
    "mydict = thisdict.copy()\n",
    "print(mydict)"
   ]
  },
  {
   "cell_type": "code",
   "execution_count": 1,
   "metadata": {},
   "outputs": [],
   "source": [
    "Dell = {\n",
    "  \"DEll_EMC\" : {\n",
    "    \"name\" : \"Dell_EMC\",\n",
    "    \"year\" : 2007\n",
    "  },\n",
    "  \"RSA\" : {\n",
    "    \"name\" : \"RSA\",\n",
    "    \"year\" : 2004\n",
    "  }\n",
    "}"
   ]
  }
 ],
 "metadata": {
  "kernelspec": {
   "display_name": "Python 3",
   "language": "python",
   "name": "python3"
  },
  "language_info": {
   "codemirror_mode": {
    "name": "ipython",
    "version": 3
   },
   "file_extension": ".py",
   "mimetype": "text/x-python",
   "name": "python",
   "nbconvert_exporter": "python",
   "pygments_lexer": "ipython3",
   "version": "3.7.4"
  }
 },
 "nbformat": 4,
 "nbformat_minor": 4
}
